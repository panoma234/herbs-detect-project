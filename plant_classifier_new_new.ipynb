{
  "nbformat": 4,
  "nbformat_minor": 0,
  "metadata": {
    "colab": {
      "provenance": [],
      "gpuType": "T4",
      "mount_file_id": "1fLMXvvDd46QE2Utmbvkd64xC19ka7cTS",
      "authorship_tag": "ABX9TyPZILSSjDCh+tywQNtTNh7g",
      "include_colab_link": true
    },
    "kernelspec": {
      "name": "python3",
      "display_name": "Python 3"
    },
    "language_info": {
      "name": "python"
    },
    "accelerator": "GPU"
  },
  "cells": [
    {
      "cell_type": "markdown",
      "metadata": {
        "id": "view-in-github",
        "colab_type": "text"
      },
      "source": [
        "<a href=\"https://colab.research.google.com/github/panoma234/herbs-detect-project/blob/main/plant_classifier_new_new.ipynb\" target=\"_parent\"><img src=\"https://colab.research.google.com/assets/colab-badge.svg\" alt=\"Open In Colab\"/></a>"
      ]
    },
    {
      "cell_type": "markdown",
      "source": [
        "## connect google drive\n"
      ],
      "metadata": {
        "id": "WqbpjothVNhx"
      }
    },
    {
      "cell_type": "code",
      "source": [
        "from google.colab import drive\n",
        "drive.mount('/content/drive')"
      ],
      "metadata": {
        "colab": {
          "base_uri": "https://localhost:8080/"
        },
        "id": "GTM2FZSK5pv_",
        "outputId": "6fe9331a-4c43-4361-c684-fcfc1f3d59f2"
      },
      "execution_count": 14,
      "outputs": [
        {
          "output_type": "stream",
          "name": "stdout",
          "text": [
            "Drive already mounted at /content/drive; to attempt to forcibly remount, call drive.mount(\"/content/drive\", force_remount=True).\n"
          ]
        }
      ]
    },
    {
      "cell_type": "markdown",
      "source": [
        "## import libraries"
      ],
      "metadata": {
        "id": "MCUSejDmVb5y"
      }
    },
    {
      "cell_type": "code",
      "execution_count": 15,
      "metadata": {
        "id": "i6aNsKR05XOw"
      },
      "outputs": [],
      "source": [
        "import tensorflow as tf\n",
        "from tensorflow import keras\n",
        "from tensorflow.keras import layers\n"
      ]
    },
    {
      "cell_type": "markdown",
      "source": [
        "## prepare training data"
      ],
      "metadata": {
        "id": "YqzNe60RVh3O"
      }
    },
    {
      "cell_type": "code",
      "source": [
        "# Define data directories\n",
        "train_dir = '/content/drive/MyDrive/datasets/plants'\n",
        "\n",
        "\n",
        "# Create data generators\n",
        "train_datagen = keras.preprocessing.image.ImageDataGenerator(\n",
        "    rescale=1./255,            # Normalize pixel values to [0, 1]\n",
        ")\n",
        "\n",
        "\n",
        "\n",
        "# Define batch size and image dimensions\n",
        "batch_size = 32\n",
        "img_height = 150\n",
        "img_width = 150\n",
        "\n",
        "# Load and prepare training data\n",
        "train_data_gen = train_datagen.flow_from_directory(\n",
        "    train_dir,\n",
        "    target_size=(img_height, img_width),\n",
        "    batch_size=batch_size,\n",
        "    class_mode='categorical',  # Use 'categorical' for multi-class classification\n",
        "    shuffle=True\n",
        ")\n",
        "\n"
      ],
      "metadata": {
        "colab": {
          "base_uri": "https://localhost:8080/"
        },
        "id": "kk8yH0_z5u1L",
        "outputId": "e73396b5-a9e9-4fd9-bfa2-d8ce26c46d5f"
      },
      "execution_count": 16,
      "outputs": [
        {
          "output_type": "stream",
          "name": "stdout",
          "text": [
            "Found 593 images belonging to 3 classes.\n"
          ]
        }
      ]
    },
    {
      "cell_type": "markdown",
      "source": [
        "## CNN model"
      ],
      "metadata": {
        "id": "bSfWx9A2VqkN"
      }
    },
    {
      "cell_type": "code",
      "source": [
        "from tensorflow.keras.models import Sequential\n",
        "from tensorflow.keras.layers import Conv2D, MaxPooling2D, Flatten, Dense\n",
        "\n",
        "model = Sequential([\n",
        "    Conv2D(32, (3,3), activation='relu', input_shape=(150, 150, 3)),\n",
        "    MaxPooling2D(2, 2),\n",
        "    Conv2D(64, (3,3), activation='relu'),\n",
        "    MaxPooling2D(2, 2),\n",
        "    Conv2D(128, (3,3), activation='relu'),\n",
        "    MaxPooling2D(2, 2),\n",
        "    Flatten(),\n",
        "    Dense(512, activation='relu'),\n",
        "    Dense(3, activation='softmax')\n",
        "])\n",
        "\n",
        "model.compile(optimizer='adam', loss='categorical_crossentropy', metrics=['accuracy'])"
      ],
      "metadata": {
        "id": "qU5Twf2cTpXX"
      },
      "execution_count": 17,
      "outputs": []
    },
    {
      "cell_type": "code",
      "source": [
        "epochs = 10  # You can adjust the number of epochs as needed\n",
        "\n",
        "history = model.fit(\n",
        "    train_data_gen,\n",
        "    epochs=epochs,\n",
        "\n",
        ")\n"
      ],
      "metadata": {
        "colab": {
          "base_uri": "https://localhost:8080/"
        },
        "id": "iuD8UlgS7d2F",
        "outputId": "23d7c693-784c-4db8-efd2-70c74de4a65f"
      },
      "execution_count": 18,
      "outputs": [
        {
          "output_type": "stream",
          "name": "stdout",
          "text": [
            "Epoch 1/10\n",
            "19/19 [==============================] - 43s 2s/step - loss: 1.4145 - accuracy: 0.4368\n",
            "Epoch 2/10\n",
            "19/19 [==============================] - 40s 2s/step - loss: 0.8959 - accuracy: 0.6290\n",
            "Epoch 3/10\n",
            "19/19 [==============================] - 40s 2s/step - loss: 0.7096 - accuracy: 0.6762\n",
            "Epoch 4/10\n",
            "19/19 [==============================] - 50s 3s/step - loss: 0.4751 - accuracy: 0.8196\n",
            "Epoch 5/10\n",
            "19/19 [==============================] - 42s 2s/step - loss: 0.3796 - accuracy: 0.8533\n",
            "Epoch 6/10\n",
            "19/19 [==============================] - 44s 2s/step - loss: 0.2632 - accuracy: 0.9073\n",
            "Epoch 7/10\n",
            "19/19 [==============================] - 45s 2s/step - loss: 0.1573 - accuracy: 0.9477\n",
            "Epoch 8/10\n",
            "19/19 [==============================] - 47s 2s/step - loss: 0.1282 - accuracy: 0.9528\n",
            "Epoch 9/10\n",
            "19/19 [==============================] - 44s 2s/step - loss: 0.3004 - accuracy: 0.8887\n",
            "Epoch 10/10\n",
            "19/19 [==============================] - 43s 2s/step - loss: 0.2234 - accuracy: 0.9241\n"
          ]
        }
      ]
    },
    {
      "cell_type": "markdown",
      "source": [
        "## check accuracy"
      ],
      "metadata": {
        "id": "PJka9oKsV0Iy"
      }
    },
    {
      "cell_type": "code",
      "source": [
        "val_loss, val_accuracy = model.evaluate(train_data_gen)\n",
        "print(\"Validation Accuracy:\", train_data_gen)"
      ],
      "metadata": {
        "colab": {
          "base_uri": "https://localhost:8080/"
        },
        "id": "a6aeFkU_7tVo",
        "outputId": "ea17a067-5481-46e1-b508-03c21578a06b"
      },
      "execution_count": 22,
      "outputs": [
        {
          "output_type": "stream",
          "name": "stdout",
          "text": [
            "19/19 [==============================] - 15s 781ms/step - loss: 0.1051 - accuracy: 0.9798\n",
            "Validation Accuracy: <keras.src.preprocessing.image.DirectoryIterator object at 0x7b1805d67df0>\n"
          ]
        }
      ]
    },
    {
      "cell_type": "code",
      "source": [],
      "metadata": {
        "id": "AkQBThN5XpWo"
      },
      "execution_count": null,
      "outputs": []
    },
    {
      "cell_type": "markdown",
      "source": [
        "# Training model - 01"
      ],
      "metadata": {
        "id": "vabkgFf_Xp8y"
      }
    },
    {
      "cell_type": "code",
      "source": [],
      "metadata": {
        "id": "ci7P91kJX2gD"
      },
      "execution_count": null,
      "outputs": []
    }
  ]
}